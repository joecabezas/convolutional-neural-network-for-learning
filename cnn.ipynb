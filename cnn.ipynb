{
 "cells": [
  {
   "cell_type": "code",
   "execution_count": 24,
   "metadata": {},
   "outputs": [],
   "source": [
    "import matplotlib.pyplot as plt\n",
    "import download\n",
    "import cifar10"
   ]
  },
  {
   "cell_type": "markdown",
   "metadata": {},
   "source": [
    "Download dataset"
   ]
  },
  {
   "cell_type": "code",
   "execution_count": 10,
   "metadata": {},
   "outputs": [
    {
     "name": "stdout",
     "output_type": "stream",
     "text": [
      "- Download progress: 100.0%\n",
      "Download finished. Extracting files.\n",
      "Done.\n"
     ]
    }
   ],
   "source": [
    "cifar10.maybe_download_and_extract()"
   ]
  },
  {
   "cell_type": "code",
   "execution_count": 13,
   "metadata": {},
   "outputs": [
    {
     "name": "stdout",
     "output_type": "stream",
     "text": [
      "Loading data: data/CIFAR-10/cifar-10-batches-py/batches.meta\n"
     ]
    },
    {
     "data": {
      "text/plain": [
       "['airplane',\n",
       " 'automobile',\n",
       " 'bird',\n",
       " 'cat',\n",
       " 'deer',\n",
       " 'dog',\n",
       " 'frog',\n",
       " 'horse',\n",
       " 'ship',\n",
       " 'truck']"
      ]
     },
     "execution_count": 13,
     "metadata": {},
     "output_type": "execute_result"
    }
   ],
   "source": [
    "class_names = cifar10.load_class_names()\n",
    "class_namDownload datasetes"
   ]
  },
  {
   "cell_type": "code",
   "execution_count": 18,
   "metadata": {},
   "outputs": [
    {
     "name": "stdout",
     "output_type": "stream",
     "text": [
      "Loading data: data/CIFAR-10/cifar-10-batches-py/data_batch_1\n",
      "Loading data: data/CIFAR-10/cifar-10-batches-py/data_batch_2\n",
      "Loading data: data/CIFAR-10/cifar-10-batches-py/data_batch_3\n",
      "Loading data: data/CIFAR-10/cifar-10-batches-py/data_batch_4\n",
      "Loading data: data/CIFAR-10/cifar-10-batches-py/data_batch_5\n"
     ]
    }
   ],
   "source": [
    "images_train, cls_train, labels_train = cifar10.load_training_data()"
   ]
  },
  {
   "cell_type": "markdown",
   "metadata": {},
   "source": [
    "Explore data, item index 16"
   ]
  },
  {
   "cell_type": "code",
   "execution_count": 19,
   "metadata": {},
   "outputs": [
    {
     "data": {
      "text/plain": [
       "(50000, 32, 32, 3)"
      ]
     },
     "execution_count": 19,
     "metadata": {},
     "output_type": "execute_result"
    }
   ],
   "source": [
    "images_train.shape"
   ]
  },
  {
   "cell_type": "code",
   "execution_count": 34,
   "metadata": {},
   "outputs": [
    {
     "data": {
      "text/plain": [
       "(32, 32, 3)"
      ]
     },
     "execution_count": 34,
     "metadata": {},
     "output_type": "execute_result"
    }
   ],
   "source": [
    "images_train[16].shape"
   ]
  },
  {
   "cell_type": "code",
   "execution_count": 27,
   "metadata": {},
   "outputs": [
    {
     "data": {
      "text/plain": [
       "<matplotlib.image.AxesImage at 0x7f813725d780>"
      ]
     },
     "execution_count": 27,
     "metadata": {},
     "output_type": "execute_result"
    },
    {
     "data": {
      "image/png": "[encoded data removed]",
      "text/plain": [
       "<Figure size 432x288 with 1 Axes>"
      ]
     },
     "metadata": {},
     "output_type": "display_data"
    }
   ],
   "source": [
    "plt.imshow(images_train[16])"
   ]
  },
  {
   "cell_type": "code",
   "execution_count": 20,
   "metadata": {},
   "outputs": [
    {
     "data": {
      "text/plain": [
       "(50000,)"
      ]
     },
     "execution_count": 20,
     "metadata": {},
     "output_type": "execute_result"
    }
   ],
   "source": [
    "cls_train.shape"
   ]
  },
  {
   "cell_type": "code",
   "execution_count": 29,
   "metadata": {},
   "outputs": [
    {
     "data": {
      "text/plain": [
       "9"
      ]
     },
     "execution_count": 29,
     "metadata": {},
     "output_type": "execute_result"
    }
   ],
   "source": [
    "cls_train[16]"
   ]
  },
  {
   "cell_type": "code",
   "execution_count": 30,
   "metadata": {},
   "outputs": [
    {
     "data": {
      "text/plain": [
       "array([0., 0., 0., 0., 0., 0., 0., 0., 0., 1.])"
      ]
     },
     "execution_count": 30,
     "metadata": {},
     "output_type": "execute_result"
    }
   ],
   "source": [
    "labels_train[16]"
   ]
  },
  {
   "cell_type": "code",
   "execution_count": 32,
   "metadata": {},
   "outputs": [
    {
     "data": {
      "text/plain": [
       "'truck'"
      ]
     },
     "execution_count": 32,
     "metadata": {},
     "output_type": "execute_result"
    }
   ],
   "source": [
    "class_names[cls_train[16]]"
   ]
  },
  {
   "cell_type": "code",
   "execution_count": 57,
   "metadata": {},
   "outputs": [
    {
     "data": {
      "text/plain": [
       "array([[[[0.18883308, 0.92080026, 0.42058257, 0.99870478, 0.39403623],\n",
       "         [0.69772396, 0.24202101, 0.39744793, 0.1686703 , 0.30640349],\n",
       "         [0.34619032, 0.39238139, 0.97853881, 0.891819  , 0.63860219],\n",
       "         [0.64420362, 0.483926  , 0.5015494 , 0.86772332, 0.23375544]],\n",
       "\n",
       "        [[0.12170401, 0.22089274, 0.17388743, 0.55163114, 0.33260717],\n",
       "         [0.13309134, 0.53522981, 0.68417327, 0.8996539 , 0.26184366],\n",
       "         [0.1913616 , 0.54570838, 0.41019519, 0.71870141, 0.93592452],\n",
       "         [0.76805925, 0.11854985, 0.18762483, 0.86289462, 0.52773968]],\n",
       "\n",
       "        [[0.65983008, 0.39055147, 0.11914093, 0.08899166, 0.94433492],\n",
       "         [0.14368417, 0.97502417, 0.5925086 , 0.97625313, 0.80057884],\n",
       "         [0.36821883, 0.55139244, 0.76866651, 0.58772474, 0.77042518],\n",
       "         [0.31041202, 0.93602514, 0.35074337, 0.48630305, 0.11155342]]],\n",
       "\n",
       "\n",
       "       [[[0.82378758, 0.25120382, 0.01516024, 0.22448146, 0.5781824 ],\n",
       "         [0.36335561, 0.39628574, 0.30908328, 0.96419075, 0.81256651],\n",
       "         [0.31372538, 0.48162156, 0.29326734, 0.62025512, 0.62850431],\n",
       "         [0.12570157, 0.5419728 , 0.93264898, 0.00704019, 0.93230016]],\n",
       "\n",
       "        [[0.91984248, 0.05652913, 0.50687738, 0.94072364, 0.01435717],\n",
       "         [0.4183769 , 0.95001192, 0.1037897 , 0.94212386, 0.78408535],\n",
       "         [0.03169811, 0.81412893, 0.57513523, 0.64012046, 0.17627059],\n",
       "         [0.82115454, 0.57399837, 0.21695913, 0.03613338, 0.64960898]],\n",
       "\n",
       "        [[0.00591277, 0.92938184, 0.35855412, 0.80838994, 0.73546504],\n",
       "         [0.24916832, 0.05002344, 0.19136864, 0.72504008, 0.32736014],\n",
       "         [0.61395459, 0.83255316, 0.25415581, 0.49177033, 0.47252171],\n",
       "         [0.69825345, 0.45751925, 0.32062462, 0.28344516, 0.57312656]]]])"
      ]
     },
     "execution_count": 57,
     "metadata": {},
     "output_type": "execute_result"
    }
   ],
   "source": [
    "a = np.random.rand(2,3,4,5)\n",
    "a"
   ]
  },
  {
   "cell_type": "code",
   "execution_count": 58,
   "metadata": {},
   "outputs": [],
   "source": [
    "def deriv(x):\n",
    "    g = 1. * (x > 0.5)\n",
    "    g[g == 0.] = 0.01\n",
    "    return g"
   ]
  },
  {
   "cell_type": "code",
   "execution_count": 65,
   "metadata": {},
   "outputs": [
    {
     "data": {
      "text/plain": [
       "array([[[[2.        , 0.92080026, 2.        , 0.99870478, 2.        ],\n",
       "         [0.69772396, 2.        , 2.        , 2.        , 2.        ],\n",
       "         [2.        , 2.        , 0.97853881, 0.891819  , 0.63860219],\n",
       "         [0.64420362, 2.        , 0.5015494 , 0.86772332, 2.        ]],\n",
       "\n",
       "        [[2.        , 2.        , 2.        , 0.55163114, 2.        ],\n",
       "         [2.        , 0.53522981, 0.68417327, 0.8996539 , 2.        ],\n",
       "         [2.        , 0.54570838, 2.        , 0.71870141, 0.93592452],\n",
       "         [0.76805925, 2.        , 2.        , 0.86289462, 0.52773968]],\n",
       "\n",
       "        [[0.65983008, 2.        , 2.        , 2.        , 0.94433492],\n",
       "         [2.        , 0.97502417, 0.5925086 , 0.97625313, 0.80057884],\n",
       "         [2.        , 0.55139244, 0.76866651, 0.58772474, 0.77042518],\n",
       "         [2.        , 0.93602514, 2.        , 2.        , 2.        ]]],\n",
       "\n",
       "\n",
       "       [[[0.82378758, 2.        , 2.        , 2.        , 0.5781824 ],\n",
       "         [2.        , 2.        , 2.        , 0.96419075, 0.81256651],\n",
       "         [2.        , 2.        , 2.        , 0.62025512, 0.62850431],\n",
       "         [2.        , 0.5419728 , 0.93264898, 2.        , 0.93230016]],\n",
       "\n",
       "        [[0.91984248, 2.        , 0.50687738, 0.94072364, 2.        ],\n",
       "         [2.        , 0.95001192, 2.        , 0.94212386, 0.78408535],\n",
       "         [2.        , 0.81412893, 0.57513523, 0.64012046, 2.        ],\n",
       "         [0.82115454, 0.57399837, 2.        , 2.        , 0.64960898]],\n",
       "\n",
       "        [[2.        , 0.92938184, 2.        , 0.80838994, 0.73546504],\n",
       "         [2.        , 2.        , 2.        , 0.72504008, 2.        ],\n",
       "         [0.61395459, 0.83255316, 2.        , 2.        , 2.        ],\n",
       "         [0.69825345, 2.        , 2.        , 2.        , 0.57312656]]]])"
      ]
     },
     "execution_count": 65,
     "metadata": {},
     "output_type": "execute_result"
    }
   ],
   "source": [
    "a[a<.5] = 2\n",
    "a"
   ]
  }
 ],
 "metadata": {
  "kernelspec": {
   "display_name": "Python 3",
   "language": "python",
   "name": "python3"
  },
  "language_info": {
   "codemirror_mode": {
    "name": "ipython",
    "version": 3
   },
   "file_extension": ".py",
   "mimetype": "text/x-python",
   "name": "python",
   "nbconvert_exporter": "python",
   "pygments_lexer": "ipython3",
   "version": "3.4.3"
  }
 },
 "nbformat": 4,
 "nbformat_minor": 2
}
